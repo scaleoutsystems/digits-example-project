{
 "cells": [
  {
   "cell_type": "code",
   "execution_count": 21,
   "metadata": {},
   "outputs": [
    {
     "name": "stdout",
     "output_type": "stream",
     "text": [
      "Populating the interactive namespace from numpy and matplotlib\n",
      "The autoreload extension is already loaded. To reload it, use:\n",
      "  %reload_ext autoreload\n"
     ]
    }
   ],
   "source": [
    "from sklearn.model_selection import train_test_split,cross_val_score, cross_val_predict, KFold\n",
    "from sklearn.metrics import classification_report\n",
    "from sklearn.linear_model import SGDClassifier\n",
    "import pandas as pd\n",
    "from PIL import Image\n",
    "import requests\n",
    "\n",
    "import keras\n",
    "from keras.layers import Conv2D, MaxPooling2D\n",
    "from keras.layers import Dense, Dropout, Flatten\n",
    "from keras.models import Sequential, load_model\n",
    "\n",
    "from src.read_data import read_data\n",
    "from src.train import train\n",
    "from src.validate import validate\n",
    "from src.init_model import create_seed_model\n",
    "%pylab inline\n",
    "%load_ext autoreload\n",
    "%autoreload 2"
   ]
  },
  {
   "cell_type": "markdown",
   "metadata": {},
   "source": [
    "## The problem and the data"
   ]
  },
  {
   "cell_type": "markdown",
   "metadata": {},
   "source": [
    "The problem is to classify images of hand-written digits. The below plot illustrates the data.  The data has been reshaped and scaled to work as input to Keras/Tensorflow, this is handled internally by 'read_data'."
   ]
  },
  {
   "cell_type": "code",
   "execution_count": 2,
   "metadata": {},
   "outputs": [],
   "source": [
    "training_data = '/home/jovyan/dataset/mnist/train.csv'\n",
    "(x_train, y_train, classes) = read_data(training_data)"
   ]
  },
  {
   "cell_type": "code",
   "execution_count": 3,
   "metadata": {},
   "outputs": [
    {
     "data": {
      "image/png": "[encoded data removed]",
      "text/plain": [
       "<Figure size 432x288 with 10 Axes>"
      ]
     },
     "metadata": {
      "needs_background": "light"
     },
     "output_type": "display_data"
    }
   ],
   "source": [
    "imgs = range(10)\n",
    "for i,img in enumerate(imgs): \n",
    "    pylab.subplot(1, len(imgs), i+1)\n",
    "    pylab.imshow(x_train[img][:,:,0])"
   ]
  },
  {
   "cell_type": "markdown",
   "metadata": {},
   "source": [
    "## Create a seed model"
   ]
  },
  {
   "cell_type": "markdown",
   "metadata": {},
   "source": [
    "We will in this example use a Convolutional Neural Network (CNN) trained on the MNIST dataset. This example is often seen as the \"Hello World\" of deep learning. "
   ]
  },
  {
   "cell_type": "code",
   "execution_count": 4,
   "metadata": {},
   "outputs": [
    {
     "name": "stdout",
     "output_type": "stream",
     "text": [
      "Model: \"sequential_1\"\n",
      "_________________________________________________________________\n",
      "Layer (type)                 Output Shape              Param #   \n",
      "=================================================================\n",
      "conv2d_1 (Conv2D)            (None, 26, 26, 32)        320       \n",
      "_________________________________________________________________\n",
      "conv2d_2 (Conv2D)            (None, 24, 24, 64)        18496     \n",
      "_________________________________________________________________\n",
      "max_pooling2d_1 (MaxPooling2 (None, 12, 12, 64)        0         \n",
      "_________________________________________________________________\n",
      "dropout_1 (Dropout)          (None, 12, 12, 64)        0         \n",
      "_________________________________________________________________\n",
      "flatten_1 (Flatten)          (None, 9216)              0         \n",
      "_________________________________________________________________\n",
      "dense_1 (Dense)              (None, 128)               1179776   \n",
      "_________________________________________________________________\n",
      "dropout_2 (Dropout)          (None, 128)               0         \n",
      "_________________________________________________________________\n",
      "dense_2 (Dense)              (None, 10)                1290      \n",
      "=================================================================\n",
      "Total params: 1,199,882\n",
      "Trainable params: 1,199,882\n",
      "Non-trainable params: 0\n",
      "_________________________________________________________________\n"
     ]
    }
   ],
   "source": [
    "model = create_seed_model()\n",
    "model.summary()"
   ]
  },
  {
   "cell_type": "markdown",
   "metadata": {},
   "source": [
    "## Train the model"
   ]
  },
  {
   "cell_type": "markdown",
   "metadata": {},
   "source": [
    "We are now ready to use the model staged in the Minio storage to train a first version of the model. We here train one epoch over the entire 60000 examples in the training dataset."
   ]
  },
  {
   "cell_type": "code",
   "execution_count": 5,
   "metadata": {},
   "outputs": [
    {
     "name": "stdout",
     "output_type": "stream",
     "text": [
      "-- RUNNING TRAINING --\n",
      "Epoch 1/1\n",
      "60000/60000 [==============================] - 400s 7ms/step - loss: 0.1845 - accuracy: 0.9441\n",
      "-- TRAINING COMPLETED --\n"
     ]
    }
   ],
   "source": [
    "model_v1 = train(model,training_data,sample_fraction=1)"
   ]
  },
  {
   "cell_type": "markdown",
   "metadata": {},
   "source": [
    "## Generate metrics"
   ]
  },
  {
   "cell_type": "markdown",
   "metadata": {},
   "source": [
    "We next need to evaluate the model. We use the test set - images that have not been used in the training phase - to compute various metrics. In this case, we compute a classification report and the test loss and test accuracy."
   ]
  },
  {
   "cell_type": "code",
   "execution_count": 6,
   "metadata": {},
   "outputs": [
    {
     "name": "stdout",
     "output_type": "stream",
     "text": [
      "Training loss: 0.08943096736073494\n",
      "Training accuracy: 0.972000002861023\n"
     ]
    }
   ],
   "source": [
    "test_data = '/home/jovyan/dataset/mnist/test.csv'\n",
    "report = validate(model_v1,test_data,sample_fraction=0.1)"
   ]
  },
  {
   "cell_type": "markdown",
   "metadata": {},
   "source": [
    "The process of evaluating a model is a reccuring task when new model versions and model deployments are generated. To help with automation of this task, STACKn has support for creating and defining report generators than can be run as Kubernetes Jobs from outside the Labs context. We will revisit this in the context of automated validation workflows in a future tutorial. "
   ]
  },
  {
   "cell_type": "markdown",
   "metadata": {},
   "source": [
    "## Save and publish the model to Studio"
   ]
  },
  {
   "cell_type": "markdown",
   "metadata": {},
   "source": [
    "We can now use the STACKn CLI to publish the model to Studio to prepare it \n",
    "for deployment. Note that this creates a snapshot of this model, and copies the model .h5 file to read_only Minio storage. If you at a later stage alters the copy in your work folder and want these changes reflected in the published or deployed model, you need to either delete the model and post a new one, or publish a new updated version of the model. STACKn supports flexible tagging of models and deployments so that you can implement a versioning scheme of your chosing. Here, we will use semantic versioning. "
   ]
  },
  {
   "cell_type": "markdown",
   "metadata": {},
   "source": [
    "#### We first serialize the Keras model to the working directory"
   ]
  },
  {
   "cell_type": "code",
   "execution_count": 7,
   "metadata": {},
   "outputs": [],
   "source": [
    "model_name = 'digits-clf'\n",
    "tag = 'v1'"
   ]
  },
  {
   "cell_type": "code",
   "execution_count": 9,
   "metadata": {},
   "outputs": [],
   "source": [
    "model.save('models/{}/tags/{}/{}_v1.h5'.format(model_name,tag,model_name))"
   ]
  },
  {
   "cell_type": "markdown",
   "metadata": {},
   "source": [
    "We also save the report we generated"
   ]
  },
  {
   "cell_type": "code",
   "execution_count": 10,
   "metadata": {},
   "outputs": [],
   "source": [
    "import json\n",
    "with open('models/{}/tags/{}/reports/report.json'.format(model_name,tag),'w') as fh:\n",
    "    fh.write(json.dumps(report))"
   ]
  },
  {
   "cell_type": "markdown",
   "metadata": {},
   "source": [
    "#### We next invoke the STACKn CLI to publish the model to Studio. "
   ]
  },
  {
   "cell_type": "markdown",
   "metadata": {},
   "source": [
    "A model published to Studio is a bundle consisting of the raw model binary and a helper file that is used for deployments. The helper file is responsible for loading the model from disk. There is an example helper.py in the root of the work directory. We copy that file to the working directory for the model version and create a tarball. "
   ]
  },
  {
   "cell_type": "code",
   "execution_count": 20,
   "metadata": {},
   "outputs": [],
   "source": [
    "import os\n",
    "import shutil\n",
    "from scaleout.studioclient import StudioClient\n",
    "client = StudioClient()"
   ]
  },
  {
   "cell_type": "code",
   "execution_count": 211,
   "metadata": {},
   "outputs": [],
   "source": [
    "shutil.copyfile('helpers.py', 'models/digits-clf/tags/v1/helpers.py')\n",
    "shutil.copyfile('mnist.py', 'models/digits-clf/tags/v1/mnist.py')\n",
    "shutil.copyfile('requirements.txt', 'models/digits-clf/tags/v1/requirements.txt')\n",
    "os.chdir('models/digits-clf/tags/v1')\n",
    "os.system('tar czvf digits-clf_v1.tar.gz .')\n",
    "os.chdir('../../../..')"
   ]
  },
  {
   "cell_type": "markdown",
   "metadata": {},
   "source": [
    "Now we are ready to publish the model:"
   ]
  },
  {
   "cell_type": "code",
   "execution_count": 212,
   "metadata": {},
   "outputs": [
    {
     "name": "stdout",
     "output_type": "stream",
     "text": [
      "Created model: mnist, tag: v1\n"
     ]
    }
   ],
   "source": [
    "!stackn create model -n mnist -t v1 -m models/digits-clf/tags/v1/digits-clf_v1.tar.gz"
   ]
  },
  {
   "cell_type": "markdown",
   "metadata": {},
   "source": [
    "You can now head over to the 'Models' page in Studio to view your published model. If you click on the model name you will see an expanded view with metadata, active deployments and reports. Note the README.md tab - this is your model's 'model card'. This is where you can add rich annotations to your model (this will later be displayed to end-consumers of the model when the model is made public). "
   ]
  },
  {
   "cell_type": "markdown",
   "metadata": {},
   "source": [
    "## Deploy the model as a microservice with a REST prediction API"
   ]
  },
  {
   "cell_type": "code",
   "execution_count": 213,
   "metadata": {},
   "outputs": [
    {
     "name": "stdout",
     "output_type": "stream",
     "text": [
      "starting build...\n",
      "http://studio.k8s-prod.pharmb.io/api/deploymentInstances/build_instance/\n",
      "ok\n",
      "200\n",
      "ok\n",
      "Created deployment: mnist\n"
     ]
    }
   ],
   "source": [
    "!stackn create deployment -m mnist -t v1 -d py37"
   ]
  },
  {
   "cell_type": "markdown",
   "metadata": {},
   "source": [
    "## Evaulate the deployed model against test data"
   ]
  },
  {
   "cell_type": "code",
   "execution_count": 102,
   "metadata": {},
   "outputs": [
    {
     "name": "stdout",
     "output_type": "stream",
     "text": [
      "+-----------+-----+----------------------------------------+\n",
      "|    Name   | Tag |                Endpoint                |\n",
      "+-----------+-----+----------------------------------------+\n",
      "| testmodel |  v1 | testmodel-v1.studio.k8s-prod.pharmb.io |\n",
      "|  amlmodel |  v1 | amlmodel-v1.studio.k8s-prod.pharmb.io  |\n",
      "|   mnist   |  v1 |   mnist-v1.studio.k8s-prod.pharmb.io   |\n",
      "+-----------+-----+----------------------------------------+\n"
     ]
    }
   ],
   "source": [
    "!stackn get deployments"
   ]
  },
  {
   "cell_type": "code",
   "execution_count": 103,
   "metadata": {},
   "outputs": [],
   "source": [
    "endpoint = 'https://mnist-v1.studio.k8s-prod.pharmb.io/predict'"
   ]
  },
  {
   "cell_type": "code",
   "execution_count": 214,
   "metadata": {},
   "outputs": [],
   "source": [
    "img_ind = 120"
   ]
  },
  {
   "cell_type": "code",
   "execution_count": 223,
   "metadata": {},
   "outputs": [],
   "source": [
    "(x_test, y_test, testclasses) = read_data('/home/jovyan/dataset/mnist/test.csv')"
   ]
  },
  {
   "cell_type": "code",
   "execution_count": 224,
   "metadata": {},
   "outputs": [
    {
     "data": {
      "text/plain": [
       "<matplotlib.image.AxesImage at 0x7f78d46a2f50>"
      ]
     },
     "execution_count": 224,
     "metadata": {},
     "output_type": "execute_result"
    },
    {
     "data": {
      "image/png": "[encoded data removed]",
      "text/plain": [
       "<Figure size 432x288 with 1 Axes>"
      ]
     },
     "metadata": {
      "needs_background": "light"
     },
     "output_type": "display_data"
    }
   ],
   "source": [
    "pylab.imshow(x_test[img_ind][:,:,0])"
   ]
  },
  {
   "cell_type": "code",
   "execution_count": 225,
   "metadata": {},
   "outputs": [],
   "source": [
    "r = requests.post(endpoint, headers=client.auth_headers, json={'input': np.array([x_test[img_ind]]).tolist()})"
   ]
  },
  {
   "cell_type": "code",
   "execution_count": 226,
   "metadata": {},
   "outputs": [
    {
     "data": {
      "text/plain": [
       "'{\"prediction\": 5}'"
      ]
     },
     "execution_count": 226,
     "metadata": {},
     "output_type": "execute_result"
    }
   ],
   "source": [
    "r.text"
   ]
  },
  {
   "cell_type": "code",
   "execution_count": null,
   "metadata": {},
   "outputs": [],
   "source": []
  },
  {
   "cell_type": "code",
   "execution_count": 152,
   "metadata": {},
   "outputs": [],
   "source": [
    "from PIL import Image\n",
    "im = Image.fromarray((255*x_train[img_ind][:,:,0]).astype(uint8))\n",
    "im.save(\"test.png\")"
   ]
  },
  {
   "cell_type": "code",
   "execution_count": 219,
   "metadata": {},
   "outputs": [],
   "source": [
    "from scaleout.studioclient import StudioClient\n",
    "client = StudioClient()"
   ]
  },
  {
   "cell_type": "code",
   "execution_count": 220,
   "metadata": {},
   "outputs": [
    {
     "data": {
      "text/plain": [
       "'mnist-hnl'"
      ]
     },
     "execution_count": 220,
     "metadata": {},
     "output_type": "execute_result"
    }
   ],
   "source": [
    "client.project_slug"
   ]
  },
  {
   "cell_type": "code",
   "execution_count": null,
   "metadata": {},
   "outputs": [],
   "source": []
  }
 ],
 "metadata": {
  "kernelspec": {
   "display_name": "Python 3",
   "language": "python",
   "name": "python3"
  },
  "language_info": {
   "codemirror_mode": {
    "name": "ipython",
    "version": 3
   },
   "file_extension": ".py",
   "mimetype": "text/x-python",
   "name": "python",
   "nbconvert_exporter": "python",
   "pygments_lexer": "ipython3",
   "version": "3.7.6"
  }
 },
 "nbformat": 4,
 "nbformat_minor": 4
}
