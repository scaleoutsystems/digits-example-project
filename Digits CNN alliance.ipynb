{
 "cells": [
  {
   "cell_type": "code",
   "execution_count": 4,
   "metadata": {},
   "outputs": [
    {
     "name": "stdout",
     "output_type": "stream",
     "text": [
      "Populating the interactive namespace from numpy and matplotlib\n"
     ]
    }
   ],
   "source": [
    "from sklearn.datasets import fetch_mldata, load_digits\n",
    "from sklearn.model_selection import train_test_split,cross_val_score, cross_val_predict, KFold\n",
    "from sklearn.metrics import classification_report\n",
    "from sklearn.linear_model import SGDClassifier\n",
    "from read_data import read_training_data, read_test_data\n",
    "import pandas as pd\n",
    "from PIL import Image\n",
    "%pylab inline"
   ]
  },
  {
   "cell_type": "markdown",
   "metadata": {},
   "source": [
    "# Create a seed model"
   ]
  },
  {
   "cell_type": "code",
   "execution_count": 3,
   "metadata": {},
   "outputs": [],
   "source": [
    "def create_seed_model():\n",
    "    # input image dimensions\n",
    "    img_rows, img_cols = 28, 28\n",
    "    input_shape = (img_rows, img_cols, 1)\n",
    "    num_classes = 10\n",
    "\n",
    "    model = Sequential()\n",
    "    model.add(Conv2D(32, kernel_size=(3, 3),\n",
    "                 activation='relu',\n",
    "                 input_shape=input_shape))\n",
    "\n",
    "    model.add(Conv2D(64, (3, 3), activation='relu'))\n",
    "    model.add(MaxPooling2D(pool_size=(2, 2)))\n",
    "    model.add(Dropout(0.25))\n",
    "    model.add(Flatten())\n",
    "    model.add(Dense(128, activation='relu'))\n",
    "    model.add(Dropout(0.5))\n",
    "    model.add(Dense(num_classes, activation='softmax'))\n",
    "    \n",
    "    model.compile(loss=keras.losses.categorical_crossentropy,\n",
    "                  optimizer=keras.optimizers.Adadelta(),\n",
    "                  metrics=['accuracy'])\n",
    "    return model"
   ]
  },
  {
   "cell_type": "markdown",
   "metadata": {},
   "source": [
    "# Create the seed model and put it in Studio"
   ]
  },
  {
   "cell_type": "code",
   "execution_count": null,
   "metadata": {},
   "outputs": [],
   "source": [
    "model = create_seed_model()\n",
    "# Put model to Studio / S3 / MINO here.\n"
   ]
  },
  {
   "cell_type": "markdown",
   "metadata": {},
   "source": [
    "# We start off training a reference model on the pooled dataset"
   ]
  },
  {
   "cell_type": "markdown",
   "metadata": {},
   "source": [
    "## We will rewrite this to interact with the model trained in Scaleout Platform"
   ]
  },
  {
   "cell_type": "code",
   "execution_count": 5,
   "metadata": {},
   "outputs": [],
   "source": [
    "X,y,classes = read_training_data()\n",
    "X_validate,y_validate,classes = read_test_data()"
   ]
  },
  {
   "cell_type": "code",
   "execution_count": null,
   "metadata": {},
   "outputs": [],
   "source": [
    "im = numpy.reshape(X[2,1::])"
   ]
  },
  {
   "cell_type": "code",
   "execution_count": null,
   "metadata": {},
   "outputs": [],
   "source": [
    "clf = SGDClassifier(max_iter=100)\n",
    "clf.fit(X,y)\n",
    "print(\"Classification report: \\n\\n%s\\n\"\n",
    "      % (classification_report(y_validate, y_predict)))\n",
    "\n",
    "#chunk_size = int(60000*0.01)\n",
    "#chunk_size\n",
    "#classes = range(10)\n",
    "#passes = 100\n",
    "#scores = []\n",
    "#N = int(60000/chunk_size)\n",
    "#for j in range(passes):\n",
    "#    for i in range(N-1):\n",
    "#        clf.partial_fit(X[i*chunk_size:(i+1)*chunk_size,:],y[i*chunk_size:(i+1)*chunk_size],classes=classes)\n",
    "#        scores.append(clf.score(X_validate,y_validate))"
   ]
  },
  {
   "cell_type": "code",
   "execution_count": 105,
   "metadata": {},
   "outputs": [
    {
     "data": {
      "text/plain": [
       "[<matplotlib.lines.Line2D at 0x11f0fd7f0>]"
      ]
     },
     "execution_count": 105,
     "metadata": {},
     "output_type": "execute_result"
    },
    {
     "data": {
      "image/png": "[encoded data removed]",
      "text/plain": [
       "<Figure size 432x288 with 1 Axes>"
      ]
     },
     "metadata": {
      "needs_background": "light"
     },
     "output_type": "display_data"
    }
   ],
   "source": [
    "plt.plot(scores)"
   ]
  },
  {
   "cell_type": "code",
   "execution_count": 27,
   "metadata": {},
   "outputs": [
    {
     "name": "stdout",
     "output_type": "stream",
     "text": [
      "Classification report: \n",
      "\n",
      "              precision    recall  f1-score   support\n",
      "\n",
      "           0       0.93      0.97      0.95       980\n",
      "           1       0.89      0.98      0.94      1135\n",
      "           2       0.91      0.85      0.88      1032\n",
      "           3       0.87      0.88      0.87      1010\n",
      "           4       0.78      0.95      0.86       982\n",
      "           5       0.85      0.79      0.82       892\n",
      "           6       0.94      0.91      0.92       958\n",
      "           7       0.83      0.93      0.88      1028\n",
      "           8       0.90      0.74      0.81       974\n",
      "           9       0.92      0.75      0.82      1009\n",
      "\n",
      "   micro avg       0.88      0.88      0.88     10000\n",
      "   macro avg       0.88      0.88      0.88     10000\n",
      "weighted avg       0.88      0.88      0.88     10000\n",
      "\n",
      "\n"
     ]
    }
   ],
   "source": [
    "print(\"Classification report: \\n\\n%s\\n\"\n",
    "      % (classification_report(y_validate, y_predict)))"
   ]
  },
  {
   "cell_type": "markdown",
   "metadata": {},
   "source": [
    "# Company A observes relatively few 4, 8   "
   ]
  },
  {
   "cell_type": "markdown",
   "metadata": {},
   "source": [
    "But what if we do not have a balanced dataset? "
   ]
  },
  {
   "cell_type": "code",
   "execution_count": 32,
   "metadata": {
    "scrolled": true
   },
   "outputs": [
    {
     "data": {
      "text/plain": [
       "(array([5923., 6742., 5958., 6131., 1169., 5421., 5918., 6265., 1171.,\n",
       "        5949.]),\n",
       " array([0. , 0.9, 1.8, 2.7, 3.6, 4.5, 5.4, 6.3, 7.2, 8.1, 9. ]),\n",
       " <a list of 10 Patch objects>)"
      ]
     },
     "execution_count": 32,
     "metadata": {},
     "output_type": "execute_result"
    },
    {
     "data": {
      "image/png": "[encoded data removed]",
      "text/plain": [
       "<Figure size 432x288 with 1 Axes>"
      ]
     },
     "metadata": {
      "needs_background": "light"
     },
     "output_type": "display_data"
    }
   ],
   "source": [
    "X_A,y_A,classes = read_training_data(remove_digits={4:0.8,8:0.8})\n",
    "plt.hist(y_A)"
   ]
  },
  {
   "cell_type": "code",
   "execution_count": 33,
   "metadata": {},
   "outputs": [
    {
     "name": "stdout",
     "output_type": "stream",
     "text": [
      "Classification report: \n",
      "\n",
      "              precision    recall  f1-score   support\n",
      "\n",
      "           0       0.93      0.97      0.95       980\n",
      "           1       0.95      0.98      0.97      1135\n",
      "           2       0.89      0.91      0.90      1032\n",
      "           3       0.89      0.91      0.90      1010\n",
      "           4       0.95      0.81      0.87       982\n",
      "           5       0.75      0.91      0.82       892\n",
      "           6       0.94      0.93      0.93       958\n",
      "           7       0.94      0.90      0.92      1028\n",
      "           8       0.92      0.66      0.77       974\n",
      "           9       0.79      0.92      0.85      1009\n",
      "\n",
      "   micro avg       0.89      0.89      0.89     10000\n",
      "   macro avg       0.90      0.89      0.89     10000\n",
      "weighted avg       0.90      0.89      0.89     10000\n",
      "\n",
      "\n"
     ]
    }
   ],
   "source": [
    "clf = SGDClassifier(max_iter=10)\n",
    "clf.fit(X_A,y_A)\n",
    "y_predict = clf.predict(X_validate)\n",
    "print(\"Classification report: \\n\\n%s\\n\"\n",
    "      % (classification_report(y_validate, y_predict)))"
   ]
  },
  {
   "cell_type": "markdown",
   "metadata": {},
   "source": [
    "# Company B observes relatively few 2, 5 "
   ]
  },
  {
   "cell_type": "code",
   "execution_count": 34,
   "metadata": {},
   "outputs": [
    {
     "data": {
      "text/plain": [
       "(array([5923., 6742., 1192., 6131., 5842., 1085., 5918., 6265., 5851.,\n",
       "        5949.]),\n",
       " array([0. , 0.9, 1.8, 2.7, 3.6, 4.5, 5.4, 6.3, 7.2, 8.1, 9. ]),\n",
       " <a list of 10 Patch objects>)"
      ]
     },
     "execution_count": 34,
     "metadata": {},
     "output_type": "execute_result"
    },
    {
     "data": {
      "image/png": "[encoded data removed]",
      "text/plain": [
       "<Figure size 432x288 with 1 Axes>"
      ]
     },
     "metadata": {
      "needs_background": "light"
     },
     "output_type": "display_data"
    }
   ],
   "source": [
    "X_B,y_B,classes = read_training_data(remove_digits={5:0.8,2:0.8})\n",
    "plt.hist(y_B)"
   ]
  },
  {
   "cell_type": "code",
   "execution_count": 35,
   "metadata": {},
   "outputs": [
    {
     "name": "stdout",
     "output_type": "stream",
     "text": [
      "Classification report: \n",
      "\n",
      "              precision    recall  f1-score   support\n",
      "\n",
      "           0       0.93      0.98      0.96       980\n",
      "           1       0.94      0.98      0.96      1135\n",
      "           2       0.96      0.75      0.84      1032\n",
      "           3       0.80      0.93      0.86      1010\n",
      "           4       0.86      0.96      0.90       982\n",
      "           5       0.97      0.65      0.78       892\n",
      "           6       0.92      0.97      0.94       958\n",
      "           7       0.91      0.93      0.92      1028\n",
      "           8       0.78      0.91      0.84       974\n",
      "           9       0.93      0.86      0.89      1009\n",
      "\n",
      "   micro avg       0.89      0.89      0.89     10000\n",
      "   macro avg       0.90      0.89      0.89     10000\n",
      "weighted avg       0.90      0.89      0.89     10000\n",
      "\n",
      "\n"
     ]
    }
   ],
   "source": [
    "clf = SGDClassifier(max_iter=100)\n",
    "clf.fit(X_B,y_B)\n",
    "y_predict = clf.predict(X_validate)\n",
    "print(\"Classification report: \\n\\n%s\\n\"\n",
    "      % (classification_report(y_validate, y_predict)))"
   ]
  },
  {
   "cell_type": "markdown",
   "metadata": {},
   "source": [
    "# Using the federated alliance model"
   ]
  },
  {
   "cell_type": "markdown",
   "metadata": {},
   "source": [
    "First we authenticate with the the alliance:"
   ]
  },
  {
   "cell_type": "code",
   "execution_count": 28,
   "metadata": {},
   "outputs": [
    {
     "name": "stdout",
     "output_type": "stream",
     "text": [
      "setting default values where needed\n",
      "attaching to alliance d680b683-d762-4001-9a85-9d7ca73d0b5e\n"
     ]
    }
   ],
   "source": [
    "from scaleout.runtime.runtime import Runtime\n",
    "runtime = Runtime()\n",
    "runtime.alliance.attach()"
   ]
  },
  {
   "cell_type": "markdown",
   "metadata": {},
   "source": [
    "We are now able to download the latest global model from the model repository "
   ]
  },
  {
   "cell_type": "code",
   "execution_count": 29,
   "metadata": {},
   "outputs": [
    {
     "name": "stdout",
     "output_type": "stream",
     "text": [
      "Classification report: \n",
      "\n",
      "              precision    recall  f1-score   support\n",
      "\n",
      "           0       0.96      0.93      0.94       980\n",
      "           1       0.92      0.99      0.95      1135\n",
      "           2       0.85      0.91      0.88      1032\n",
      "           3       0.92      0.80      0.85      1010\n",
      "           4       0.99      0.56      0.71       982\n",
      "           5       0.55      0.94      0.70       892\n",
      "           6       0.89      0.93      0.91       958\n",
      "           7       0.89      0.91      0.90      1028\n",
      "           8       0.97      0.50      0.66       974\n",
      "           9       0.73      0.90      0.81      1009\n",
      "\n",
      "   micro avg       0.84      0.84      0.84     10000\n",
      "   macro avg       0.87      0.84      0.83     10000\n",
      "weighted avg       0.87      0.84      0.84     10000\n",
      "\n",
      "\n"
     ]
    }
   ],
   "source": [
    "global_model, meta = runtime.alliance.get_global_model()\n",
    "y_predict = global_model.predict(X_validate)\n",
    "print(\"Classification report: \\n\\n%s\\n\"\n",
    "      % (classification_report(y_validate, y_predict)))"
   ]
  },
  {
   "cell_type": "code",
   "execution_count": null,
   "metadata": {},
   "outputs": [],
   "source": []
  }
 ],
 "metadata": {
  "kernelspec": {
   "display_name": "Python 3",
   "language": "python",
   "name": "python3"
  },
  "language_info": {
   "codemirror_mode": {
    "name": "ipython",
    "version": 3
   },
   "file_extension": ".py",
   "mimetype": "text/x-python",
   "name": "python",
   "nbconvert_exporter": "python",
   "pygments_lexer": "ipython3",
   "version": "3.7.0"
  }
 },
 "nbformat": 4,
 "nbformat_minor": 2
}
